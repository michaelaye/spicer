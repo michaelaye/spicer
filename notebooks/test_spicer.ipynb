{
 "cells": [
  {
   "cell_type": "code",
   "execution_count": 74,
   "metadata": {
    "collapsed": true
   },
   "outputs": [],
   "source": [
    "# setup\n",
    "from spicer import spicer, exceptions\n",
    "import datetime as dt\n",
    "from numpy.testing import assert_allclose\n",
    "from math import pi\n",
    "import pytest\n",
    "\n",
    "s = spicer.Spicer('2010-01-02')\n",
    "s2 = spicer.Spicer('2015-10-18T23:50:24.747598')"
   ]
  },
  {
   "cell_type": "code",
   "execution_count": 34,
   "metadata": {
    "collapsed": false
   },
   "outputs": [],
   "source": [
    "\"\"\"test_spicer_time_init\"\"\"\n",
    "assert s.utc == '2010-01-02T00:00:00'\n",
    "assert s.time == dt.datetime(2010, 1 ,2)\n",
    "assert_allclose(s.et, 315662466.18395346)"
   ]
  },
  {
   "cell_type": "code",
   "execution_count": 36,
   "metadata": {
    "collapsed": false
   },
   "outputs": [],
   "source": [
    "# test_illum_angles\n",
    "illangles = spicer.IllumAngles(phase=pi, emission=2*pi)\n",
    "assert_allclose([illangles.dphase, illangles.demission], [180.0, 360.0])"
   ]
  },
  {
   "cell_type": "code",
   "execution_count": 37,
   "metadata": {
    "collapsed": true
   },
   "outputs": [],
   "source": [
    "# test_illum_angles_from_tuples\n",
    "illangles = spicer.IllumAngles.fromtuple([pi, 2*pi, 3*pi])\n",
    "assert_allclose([illangles.dphase, illangles.dsolar, illangles.demission],\n",
    "                   [180.0, 360.0, 540.0])"
   ]
  },
  {
   "cell_type": "code",
   "execution_count": 38,
   "metadata": {
    "collapsed": false
   },
   "outputs": [],
   "source": [
    "# test_coords\n",
    "coords = spicer.SurfaceCoords(lat=0, lon=pi)\n",
    "assert_allclose([coords.dlat, coords.dlon, coords.radius],\n",
    "                [0.0, 180, 0.0])"
   ]
  },
  {
   "cell_type": "code",
   "execution_count": 39,
   "metadata": {
    "collapsed": true
   },
   "outputs": [],
   "source": [
    "# test_spicer_time_init\n",
    "assert s.utc == '2010-01-02T00:00:00'\n",
    "assert s.time == dt.datetime(2010, 1, 2)\n",
    "assert_allclose(s.et, 315662466.18395346)"
   ]
  },
  {
   "cell_type": "code",
   "execution_count": 42,
   "metadata": {
    "collapsed": true
   },
   "outputs": [],
   "source": [
    "# test_spicer_target_id\n",
    "s.target = 'Mars'\n",
    "assert s.target_id == 499"
   ]
  },
  {
   "cell_type": "code",
   "execution_count": 45,
   "metadata": {
    "collapsed": false
   },
   "outputs": [],
   "source": [
    "# test_spicer_target_id_failure\n",
    "s.target = 'hello'\n",
    "with pytest.raises(exceptions.SpiceError):\n",
    "    print(s.target_id)"
   ]
  },
  {
   "cell_type": "code",
   "execution_count": 46,
   "metadata": {
    "collapsed": true
   },
   "outputs": [],
   "source": [
    "# test_spicer_radii\n",
    "s.target = 'Mars'\n",
    "assert_allclose([s.radii.a, s.radii.b, s.radii.c],\n",
    "                [3396.1900000000001, 3396.1900000000001, 3376.1999999999998])                   "
   ]
  },
  {
   "cell_type": "code",
   "execution_count": 56,
   "metadata": {
    "collapsed": true
   },
   "outputs": [],
   "source": [
    "# test_spicer_center_to_sun\n",
    "s2.body = 'Earth'\n",
    "assert_allclose(s2.center_to_sun,\n",
    "                [-1.46834268e+08, 3.20689425e+06, -2.53194083e+07])"
   ]
  },
  {
   "cell_type": "code",
   "execution_count": 57,
   "metadata": {
    "collapsed": false
   },
   "outputs": [],
   "source": [
    "# test_spicer_solar_constant\n",
    "s2.body = 'Earth'\n",
    "assert_allclose(s2.solar_constant, 1375.39440028)"
   ]
  },
  {
   "cell_type": "code",
   "execution_count": 63,
   "metadata": {
    "collapsed": false
   },
   "outputs": [],
   "source": [
    "# test_spicer_srfrec_body_none\n",
    "s.target = 'mars'\n",
    "coords = spicer.SurfaceCoords(lat=0, lon=0)\n",
    "actual = s.srfrec(coords)\n",
    "assert_allclose(actual, [3396.19, 0., 0.])"
   ]
  },
  {
   "cell_type": "code",
   "execution_count": 67,
   "metadata": {
    "collapsed": false
   },
   "outputs": [],
   "source": [
    "# test_spicer_srfrec_body_sun\n",
    "s.target = 'mars'\n",
    "coords = spicer.SurfaceCoords(lat=0, lon=0)\n",
    "actual = s.srfrec(coords, 'sun')\n",
    "assert_allclose(actual, [696000.0, 0., 0.])"
   ]
  },
  {
   "cell_type": "code",
   "execution_count": 75,
   "metadata": {
    "collapsed": false
   },
   "outputs": [],
   "source": [
    "# test_spicer_set_spoint_by_latlon\n",
    "s.target = 'mars'\n",
    "s.set_spoint_by(lon=0, lat=0)\n",
    "assert_allclose(s.spoint, [3396.19, 0.0, 0.0])\n",
    "assert s.spoint_set == True"
   ]
  },
  {
   "cell_type": "code",
   "execution_count": 81,
   "metadata": {
    "collapsed": false
   },
   "outputs": [],
   "source": [
    "# test_spoint_func_not_supported\n",
    "with pytest.raises(NotImplementedError):\n",
    "    s.set_spoint_by(func_str='sonic')"
   ]
  },
  {
   "cell_type": "code",
   "execution_count": 82,
   "metadata": {
    "collapsed": true
   },
   "outputs": [],
   "source": [
    "# test_spoint_func_not_yet_implemented\n",
    "with pytest.raises(NotImplementedError):\n",
    "    s.set_spoint_by(func_str='subpnt')"
   ]
  },
  {
   "cell_type": "code",
   "execution_count": 85,
   "metadata": {
    "collapsed": false
   },
   "outputs": [],
   "source": [
    "# test_spoint_lat_not_given\n",
    "with pytest.raises(exceptions.MissingParameterError):\n",
    "    s.set_spoint_by(lat=0)"
   ]
  },
  {
   "cell_type": "code",
   "execution_count": 88,
   "metadata": {
    "collapsed": false
   },
   "outputs": [],
   "source": [
    "# test_spoint_lon_not_given\n",
    "with pytest.raises(exceptions.MissingParameterError):\n",
    "    s.set_spoint_by(lon=0)"
   ]
  },
  {
   "cell_type": "code",
   "execution_count": null,
   "metadata": {
    "collapsed": true
   },
   "outputs": [],
   "source": []
  }
 ],
 "metadata": {
  "kernelspec": {
   "display_name": "Python 3",
   "language": "python",
   "name": "python3"
  },
  "language_info": {
   "codemirror_mode": {
    "name": "ipython",
    "version": 3
   },
   "file_extension": ".py",
   "mimetype": "text/x-python",
   "name": "python",
   "nbconvert_exporter": "python",
   "pygments_lexer": "ipython3",
   "version": "3.4.3"
  }
 },
 "nbformat": 4,
 "nbformat_minor": 0
}
