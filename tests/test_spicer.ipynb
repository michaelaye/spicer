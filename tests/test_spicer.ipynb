{
 "cells": [
  {
   "cell_type": "code",
   "execution_count": null,
   "metadata": {},
   "outputs": [],
   "source": [
    "# setup\n",
    "from spicer import Spicer, exceptions, IllumAngles, SurfaceCoords, MarsSpicer, EarthSpicer\n",
    "import datetime as dt\n",
    "from numpy.testing import assert_allclose\n",
    "from math import tau\n",
    "import pytest\n",
    "\n",
    "s = Spicer('earth','2010-01-02')\n",
    "s2 = Spicer('earth', '2015-10-18T23:50:24.747598')"
   ]
  },
  {
   "cell_type": "code",
   "execution_count": null,
   "metadata": {},
   "outputs": [],
   "source": [
    "spicer = EarthSpicer('2018-12-29T12:00:00')"
   ]
  },
  {
   "cell_type": "code",
   "execution_count": null,
   "metadata": {},
   "outputs": [],
   "source": [
    "spicer.set_spoint_by(lat=39.866350, lon=0)"
   ]
  },
  {
   "cell_type": "code",
   "execution_count": null,
   "metadata": {},
   "outputs": [],
   "source": [
    "spicer.local_soltime"
   ]
  },
  {
   "cell_type": "code",
   "execution_count": null,
   "metadata": {},
   "outputs": [],
   "source": [
    "spicer.F_flat"
   ]
  },
  {
   "cell_type": "code",
   "execution_count": null,
   "metadata": {},
   "outputs": [],
   "source": [
    "spicer.illum_angles.dsolar"
   ]
  },
  {
   "cell_type": "code",
   "execution_count": null,
   "metadata": {},
   "outputs": [],
   "source": [
    "spicer.tilt=30*u.deg"
   ]
  },
  {
   "cell_type": "code",
   "execution_count": null,
   "metadata": {},
   "outputs": [],
   "source": [
    "spicer.aspect = 180 * u.deg"
   ]
  },
  {
   "cell_type": "code",
   "execution_count": null,
   "metadata": {},
   "outputs": [],
   "source": [
    "spicer.F_aspect"
   ]
  },
  {
   "cell_type": "code",
   "execution_count": null,
   "metadata": {},
   "outputs": [],
   "source": [
    "spicer.F_flat"
   ]
  },
  {
   "cell_type": "code",
   "execution_count": null,
   "metadata": {},
   "outputs": [],
   "source": [
    "mars = MarsSpicer('2018-04-11T06:30:00')"
   ]
  },
  {
   "cell_type": "code",
   "execution_count": null,
   "metadata": {},
   "outputs": [],
   "source": [
    "mars.l_s"
   ]
  },
  {
   "cell_type": "code",
   "execution_count": null,
   "metadata": {},
   "outputs": [],
   "source": [
    "from spicer import kernels"
   ]
  },
  {
   "cell_type": "code",
   "execution_count": null,
   "metadata": {},
   "outputs": [],
   "source": [
    "kernels.generic_kernel_list"
   ]
  },
  {
   "cell_type": "code",
   "execution_count": null,
   "metadata": {},
   "outputs": [],
   "source": [
    "mars.goto('inca')"
   ]
  },
  {
   "cell_type": "code",
   "execution_count": null,
   "metadata": {},
   "outputs": [],
   "source": [
    "mars.illum_angles"
   ]
  },
  {
   "cell_type": "code",
   "execution_count": null,
   "metadata": {},
   "outputs": [],
   "source": [
    "mars.local_soltime"
   ]
  },
  {
   "cell_type": "code",
   "execution_count": null,
   "metadata": {},
   "outputs": [],
   "source": [
    "mars.l_s"
   ]
  },
  {
   "cell_type": "code",
   "execution_count": null,
   "metadata": {},
   "outputs": [],
   "source": []
  },
  {
   "cell_type": "code",
   "execution_count": null,
   "metadata": {},
   "outputs": [],
   "source": [
    "s.utc"
   ]
  },
  {
   "cell_type": "code",
   "execution_count": null,
   "metadata": {},
   "outputs": [],
   "source": [
    "from planetpy import utils"
   ]
  },
  {
   "cell_type": "code",
   "execution_count": null,
   "metadata": {},
   "outputs": [],
   "source": [
    "utils.iso_to_nasa_datetime(s.time.isoformat())"
   ]
  },
  {
   "cell_type": "code",
   "execution_count": null,
   "metadata": {},
   "outputs": [],
   "source": [
    "# test_illum_angles\n",
    "illangles = IllumAngles(phase=180, emission=360)\n",
    "assert_allclose([illangles.dphase.value, illangles.demission.value], [180.0, 360.0])"
   ]
  },
  {
   "cell_type": "code",
   "execution_count": null,
   "metadata": {},
   "outputs": [],
   "source": [
    "illangles"
   ]
  },
  {
   "cell_type": "code",
   "execution_count": null,
   "metadata": {},
   "outputs": [],
   "source": [
    "# test_illum_angles_from_tuples\n",
    "illangles = IllumAngles.fromtuple([tau/2, tau, 1.5*tau])\n",
    "assert_allclose([illangles.dphase.value, illangles.dsolar.value, illangles.demission.value],\n",
    "                [180.0, 360.0, 540.0])"
   ]
  },
  {
   "cell_type": "code",
   "execution_count": null,
   "metadata": {},
   "outputs": [],
   "source": [
    "# test_coords\n",
    "coords = SurfaceCoords(lat=0, lon=180)\n",
    "assert_allclose([coords.dlat.value, coords.dlon.value, coords.radius.value],\n",
    "                [0.0, 180, 0.0])"
   ]
  },
  {
   "cell_type": "code",
   "execution_count": null,
   "metadata": {},
   "outputs": [],
   "source": [
    "# test_spicer_time_init\n",
    "assert s.utc == '2010-01-02T00:00:00'\n",
    "assert s.time == dt.datetime(2010, 1, 2)\n",
    "assert_allclose(s.et, 315662466.18395346)"
   ]
  },
  {
   "cell_type": "code",
   "execution_count": null,
   "metadata": {},
   "outputs": [],
   "source": [
    "# test_spicer_target_id\n",
    "s.target = 'Mars'\n",
    "assert s.target_id == 499"
   ]
  },
  {
   "cell_type": "code",
   "execution_count": null,
   "metadata": {},
   "outputs": [],
   "source": [
    "# test_spicer_target_id_failure\n",
    "s.target = 'hello'\n",
    "import spiceypy\n",
    "with pytest.raises(spiceypy.stypes.SpiceyError):\n",
    "    print(s.target_id)"
   ]
  },
  {
   "cell_type": "code",
   "execution_count": null,
   "metadata": {},
   "outputs": [],
   "source": []
  },
  {
   "cell_type": "code",
   "execution_count": null,
   "metadata": {},
   "outputs": [],
   "source": [
    "# test_spicer_radii\n",
    "s.target = 'Mars'\n",
    "assert_allclose([s.radii.a, s.radii.b, s.radii.c],\n",
    "                [3396.1900000000001, 3396.1900000000001, 3376.1999999999998])                   "
   ]
  },
  {
   "cell_type": "code",
   "execution_count": null,
   "metadata": {},
   "outputs": [],
   "source": [
    "# test_spicer_center_to_sun\n",
    "s2.body = 'Earth'\n",
    "assert_allclose(s2.center_to_sun,\n",
    "                [-1.46834268e+08, 3.20689425e+06, -2.53194083e+07])"
   ]
  },
  {
   "cell_type": "code",
   "execution_count": null,
   "metadata": {},
   "outputs": [],
   "source": [
    "# test_ref_frame_property\n",
    "s2.body = 'earth'\n",
    "assert s2.ref_frame.upper() == \"IAU_EARTH\"\n",
    "s2.ref_frame = 'test'\n",
    "assert s2.ref_frame == 'test'"
   ]
  },
  {
   "cell_type": "code",
   "execution_count": null,
   "metadata": {},
   "outputs": [],
   "source": [
    "# test_body_property\n",
    "s2.body = 'mars'\n",
    "assert s2.body == 'mars'\n",
    "assert s2.ref_frame.upper() == 'IAU_MARS'"
   ]
  },
  {
   "cell_type": "code",
   "execution_count": null,
   "metadata": {},
   "outputs": [],
   "source": [
    "# test_spicer_solar_constant\n",
    "s2.body = 'Earth'\n",
    "assert_allclose(s2.solar_constant, 1375.39440028)"
   ]
  },
  {
   "cell_type": "code",
   "execution_count": null,
   "metadata": {},
   "outputs": [],
   "source": [
    "# test_spicer_srfrec_body_none\n",
    "s.target = 'mars'\n",
    "coords = SurfaceCoords(lat=0, lon=0)\n",
    "actual = s.srfrec(coords)\n",
    "assert_allclose(actual, [3396.19, 0., 0.])"
   ]
  },
  {
   "cell_type": "code",
   "execution_count": null,
   "metadata": {},
   "outputs": [],
   "source": [
    "# test_spicer_srfrec_body_sun\n",
    "s.target = 'mars'\n",
    "coords = SurfaceCoords(lat=0, lon=0)\n",
    "actual = s.srfrec(coords, 'sun')\n",
    "assert_allclose(actual, [696000.0, 0., 0.])"
   ]
  },
  {
   "cell_type": "code",
   "execution_count": null,
   "metadata": {},
   "outputs": [],
   "source": [
    "# test_spicer_set_spoint_by_latlon\n",
    "s.target = 'mars'\n",
    "s.set_spoint_by(lon=0, lat=0)\n",
    "assert_allclose(s.spoint, [3396.19, 0.0, 0.0])\n",
    "assert s.spoint_set == True"
   ]
  },
  {
   "cell_type": "code",
   "execution_count": null,
   "metadata": {},
   "outputs": [],
   "source": [
    "# test_spoint_func_not_supported\n",
    "with pytest.raises(NotImplementedError):\n",
    "    s.set_spoint_by(func_str='sonic')"
   ]
  },
  {
   "cell_type": "code",
   "execution_count": null,
   "metadata": {},
   "outputs": [],
   "source": [
    "# test_spoint_func_not_yet_implemented\n",
    "with pytest.raises(NotImplementedError):\n",
    "    s.set_spoint_by(func_str='subpnt')"
   ]
  },
  {
   "cell_type": "code",
   "execution_count": null,
   "metadata": {},
   "outputs": [],
   "source": [
    "# test_spoint_lat_not_given\n",
    "with pytest.raises(exceptions.MissingParameterError):\n",
    "    s.set_spoint_by(lat=0)"
   ]
  },
  {
   "cell_type": "code",
   "execution_count": null,
   "metadata": {},
   "outputs": [],
   "source": [
    "# test_spoint_lon_not_given\n",
    "with pytest.raises(exceptions.MissingParameterError):\n",
    "    s.set_spoint_by(lon=0)"
   ]
  },
  {
   "cell_type": "code",
   "execution_count": null,
   "metadata": {},
   "outputs": [],
   "source": [
    "s.body_to_object('moon')"
   ]
  },
  {
   "cell_type": "code",
   "execution_count": null,
   "metadata": {},
   "outputs": [],
   "source": [
    "# test_mars_spicer\n",
    "mspicer = MarsSpicer()"
   ]
  },
  {
   "cell_type": "code",
   "execution_count": null,
   "metadata": {},
   "outputs": [],
   "source": [
    "mspicer.target_id"
   ]
  }
 ],
 "metadata": {
  "kernelspec": {
   "display_name": "Python 3",
   "language": "python",
   "name": "python3"
  },
  "language_info": {
   "codemirror_mode": {
    "name": "ipython",
    "version": 3
   },
   "file_extension": ".py",
   "mimetype": "text/x-python",
   "name": "python",
   "nbconvert_exporter": "python",
   "pygments_lexer": "ipython3",
   "version": "3.7.1"
  },
  "toc": {
   "base_numbering": 1,
   "nav_menu": {
    "height": "12px",
    "width": "252px"
   },
   "number_sections": false,
   "sideBar": false,
   "skip_h1_title": false,
   "title_cell": "Table of Contents",
   "title_sidebar": "Contents",
   "toc_cell": false,
   "toc_position": {},
   "toc_section_display": "block",
   "toc_window_display": false
  }
 },
 "nbformat": 4,
 "nbformat_minor": 2
}
